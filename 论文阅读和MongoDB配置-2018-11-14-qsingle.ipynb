	Direction-aware Spatial Context Features for Shadow Detection论文阅读
     今天我首先阅读了这篇关于阴影检测的文章，在这篇文章中作者提出一个基于方向的一个区域文本特征提取的一个阴影检测架构，该架构通过使用direction-aware spatial context (DSC)这个模块进行区域文本特征的生成，首先看下这个网络的一个整体架构.
 
从整个框架来看，作者首先是将input进行特征提取，然后提取到不同层次的特征通过相对应的层次的特征图通过DSC模块后提取到context特征然后将提取到的特征通过1x1的卷积核进行上采样恢复到原图大小后输出不同层次预测的score maps，于此同时将所有的层次融合得到一个MLIF(multi-level integrated features,多层的完整特征)，最后将所有的score maps和MLIF进行融合后得到一个输出。
看完整体架构之后我们看一下DSC模块，首先看一下DSC模块的框架图，如下图所示，从中我们可以看出在DSC模块中分为两次特征提取的过程，根据作者的论述，两次过程都是通过使用Spatial RNN在上下左右四个方向上进行文本特征的提取，然后得出四个方向上的特征图，然后对这是个特征图和使用CNN产生的一个特征权重图进行一次concat操作，第一次特征提取是再进行concat操作后使用1x1的卷积进行融合后产生第一次的recurrent translation特征，然后对这个特征进行第二次文本特征的提取后使用同样使用concat操作，但是其在concat操作后使用带ReLU函数1x1进行融合后得到DSC输出。
 
  因为在图像中阴影部分的面积远小于非阴影部分的面积，因而作者使用了权重的交叉熵损失来对整个网络进行优化，总体的损失L=L1+L2。
 
 
其中N_n为为非阴影部分的面积，中N_p为阴影部分的面积，而TP为True Postive，TN为True Negative，通过计算这两个交叉熵损失来计算总体损失，从而更新网络每一层的权重。整体的损失计算方法如下:
 
其中L_i为每一层的Loss，L_m为MLIF层的Loss，L_f为融合层的损失，w_i为网络每一层的权重，w_m为MLIF层的权重，w_f为融合层的权重。
在DSC四个方向上产生的W的公式如下所示，其中的θ为f_att需要寻找的参数，同时f_att也被称为注意力评估网络。
 
2.MongoDB的配置命令
Windows:     mongod  --bind_ip 0.0.0.0  --logpath pathtolog –logappend –dbpath pathtodata  --port 27017 –serviceName “MongoDB” –serviceDIsplayName “MongoDB” –install

Linux: ./mongod --dbpath /usr/local/mongodb/data/db/ --logpath /usr/local/mongodb/data/logs/mogo.log --logappend --port=27017 --fork --bind_ip=0.0.0.0


